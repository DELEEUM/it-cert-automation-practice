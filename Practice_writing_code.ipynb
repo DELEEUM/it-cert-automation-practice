{
  "nbformat": 4,
  "nbformat_minor": 0,
  "metadata": {
    "colab": {
      "provenance": [],
      "authorship_tag": "ABX9TyPuz/XnLAPQUdiu6vL8qmzD",
      "include_colab_link": true
    },
    "kernelspec": {
      "name": "python3",
      "display_name": "Python 3"
    },
    "language_info": {
      "name": "python"
    }
  },
  "cells": [
    {
      "cell_type": "markdown",
      "metadata": {
        "id": "view-in-github",
        "colab_type": "text"
      },
      "source": [
        "<a href=\"https://colab.research.google.com/github/DELEEUM/it-cert-automation-practice/blob/master/Practice_writing_code.ipynb\" target=\"_parent\"><img src=\"https://colab.research.google.com/assets/colab-badge.svg\" alt=\"Open In Colab\"/></a>"
      ]
    },
    {
      "cell_type": "markdown",
      "metadata": {
        "id": "XyArhxXzn3rV"
      },
      "source": [
        "Use variable instead of user input.\n",
        "1. Let the user enter their name and their country (e.g. Bob, Singapore).\n",
        "Then print out a greeting message (eg. “Hello Bob from Singapore’).\n",
        "Bonus: Use a single output statement to print the entire greeting.\n",
        "\n",
        "2. Let the user enter the ages of ten people . Print out the total\n",
        "age and the average age.\n",
        "\n",
        "3. Let the user enter the length of two sides of a right angled triangle. Then\n",
        "calculate the length of the hypotenuse.\n",
        "\n",
        "4. Enter a number of sides for a regular polygon (minimum 3) and calculate\n",
        "the exterior angles.\n",
        "\n",
        "5. Let the user the distance to the place they want to travel and the speed at\n",
        "which they intend to travel. Then calculate the time it should take thern.\n",
        "\n",
        "6. Let the user enter the information necessary for you to calculate the\n",
        "volume of a cylinder.\n"
      ]
    },
    {
      "cell_type": "code",
      "metadata": {
        "id": "oBPzgU7B0AZF"
      },
      "source": [
        "#1\n",
        "name = input(\"what is your name:\")\n",
        "country = input(\"where are you from:\")\n",
        "print(\"Hello I'm\",name,\"from\",country)"
      ],
      "execution_count": null,
      "outputs": []
    },
    {
      "cell_type": "code",
      "metadata": {
        "id": "5g5pent90zMm",
        "colab": {
          "base_uri": "https://localhost:8080/"
        },
        "outputId": "1364344d-f08b-4eaa-af2f-4e6984a0b04b"
      },
      "source": [
        "1#2\n",
        "Age_1 = int(input(\"Age: \"))\n",
        "Age_2 = int(input(\"Age: \"))\n",
        "Age_3 = int(input(\"Age: \"))\n",
        "Age_4 = int(input(\"Age: \"))\n",
        "Age_5 = int(input(\"Age: \"))\n",
        "Age_6 = int(input(\"Age: \"))\n",
        "Age_7 = int(input(\"Age: \"))\n",
        "Age_8 = int(input(\"Age: \"))\n",
        "Age_9 = int(input(\"Age: \"))\n",
        "Age_10 = int(input(\"Age: \"))\n",
        "\n",
        "print(\"Total_age =\",Age_1+Age_2+Age_3+Age_4+Age_5+Age_6+Age_7+Age_8+Age_9+Age_10)\n",
        "print(\"average_age =\", (Age_1+Age_2+Age_3+Age_4+Age_5+Age_6+Age_7+Age_8+Age_9+Age_10)/10)"
      ],
      "execution_count": 1,
      "outputs": [
        {
          "output_type": "stream",
          "name": "stdout",
          "text": [
            "Age: 18\n",
            "Age: 19\n",
            "Age: 19\n",
            "Age: 18\n",
            "Age: 17\n",
            "Age: 17\n",
            "Age: 18\n",
            "Age: 19\n",
            "Age: 17\n",
            "Age: 18\n",
            "Total_age = 180\n",
            "average_age = 18.0\n"
          ]
        }
      ]
    },
    {
      "cell_type": "code",
      "source": [
        "#3\n",
        "import  math\n",
        "side_a = 3\n",
        "side_b = 4\n",
        "\n",
        "side_c = math.sqrt(side_a**2+side_b**2)\n",
        "print(side_c)"
      ],
      "metadata": {
        "colab": {
          "base_uri": "https://localhost:8080/"
        },
        "id": "S9uHozMIfJK7",
        "outputId": "aa3e4275-c792-499a-b0ad-a42d0d569d5a"
      },
      "execution_count": null,
      "outputs": [
        {
          "output_type": "stream",
          "name": "stdout",
          "text": [
            "5.0\n"
          ]
        }
      ]
    },
    {
      "cell_type": "code",
      "source": [
        "#4\n",
        "side = int(input(\"how many side\"))\n",
        "exangle =360/side\n",
        "print(\"exterior angles =\" ,exangle)"
      ],
      "metadata": {
        "colab": {
          "base_uri": "https://localhost:8080/"
        },
        "id": "2waESYLogymC",
        "outputId": "02d79b88-fd41-4819-81e1-5d52e2faccff"
      },
      "execution_count": null,
      "outputs": [
        {
          "output_type": "stream",
          "name": "stdout",
          "text": [
            "how many side3\n",
            "exterior angles = 120.0\n"
          ]
        }
      ]
    },
    {
      "cell_type": "code",
      "source": [
        "#5\n",
        "place = int(input(\"distance to the place\"))\n",
        "speed = int(input(\"speed\"))\n",
        "\n",
        "time = place/speed\n",
        "\n",
        "print(\"time to place=\", time)"
      ],
      "metadata": {
        "colab": {
          "base_uri": "https://localhost:8080/"
        },
        "id": "K9OXfIF-sAjw",
        "outputId": "448b6f34-4429-416f-f340-b551d117552d"
      },
      "execution_count": null,
      "outputs": [
        {
          "output_type": "stream",
          "name": "stdout",
          "text": [
            "distance to the place40\n",
            "speed5\n",
            "time to place= 8.0\n"
          ]
        }
      ]
    },
    {
      "cell_type": "code",
      "source": [
        "#6\n",
        "Redius = int(input(\"Redius\"))\n",
        "Height = int(input(\"Heighr\"))\n",
        "\n",
        "cylinder = 3.14*(Redius**2)*Height\n",
        "\n",
        "print(\"cylinder=\", cylinder)"
      ],
      "metadata": {
        "colab": {
          "base_uri": "https://localhost:8080/"
        },
        "id": "QUvM0pHYtbaW",
        "outputId": "18de9f53-5e0e-4c0d-8ed6-07a969cf82c7"
      },
      "execution_count": null,
      "outputs": [
        {
          "output_type": "stream",
          "name": "stdout",
          "text": [
            "Redius8\n",
            "Heighr4\n",
            "cylinder= 803.84\n"
          ]
        }
      ]
    }
  ]
}