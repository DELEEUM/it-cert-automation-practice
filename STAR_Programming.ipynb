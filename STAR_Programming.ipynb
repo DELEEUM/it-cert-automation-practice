{
  "nbformat": 4,
  "nbformat_minor": 0,
  "metadata": {
    "colab": {
      "provenance": [],
      "authorship_tag": "ABX9TyMtSl74xnK93g1UDDXjn7sX",
      "include_colab_link": true
    },
    "kernelspec": {
      "name": "python3",
      "display_name": "Python 3"
    },
    "language_info": {
      "name": "python"
    }
  },
  "cells": [
    {
      "cell_type": "markdown",
      "metadata": {
        "id": "view-in-github",
        "colab_type": "text"
      },
      "source": [
        "<a href=\"https://colab.research.google.com/github/DELEEUM/it-cert-automation-practice/blob/master/STAR_Programming.ipynb\" target=\"_parent\"><img src=\"https://colab.research.google.com/assets/colab-badge.svg\" alt=\"Open In Colab\"/></a>"
      ]
    },
    {
      "cell_type": "markdown",
      "metadata": {
        "id": "p4vADmeqGPox"
      },
      "source": [
        "\n",
        "1. Write a Python program to construct the following pattern, using a nested for loop.\n",
        "\n",
        "\n",
        "```\n",
        "Input: 5\n",
        "Output:\n",
        "*\n",
        "* *\n",
        "* * *\n",
        "* * * *\n",
        "* * * * *\n",
        "* * * *\n",
        "* * *\n",
        "* *\n",
        "*\n",
        "```\n",
        "2. Write a Python program to construct the following pattern, using a nested for loop.\n",
        "\n",
        "```\n",
        "Input: 3\n",
        "Output:\n",
        "    *\n",
        "  * * *\n",
        "* * * * *\n",
        "  * * *\n",
        "    *  \n",
        "```\n",
        "\n"
      ]
    },
    {
      "cell_type": "code",
      "source": [
        "#1\n",
        "n = int(input(\"Input: \"))\n",
        "i = 0\n",
        "j = 0\n",
        "while (i < n):\n",
        "  print(\" *\"*(i+1))\n",
        "  i = i+1\n",
        "while (j < n):\n",
        "  print(\" *\"*(n-1-j))\n",
        "  j = j+1"
      ],
      "metadata": {
        "id": "rzsJ7inbr8Th",
        "colab": {
          "base_uri": "https://localhost:8080/"
        },
        "outputId": "cc4ae422-c79a-4b67-efa9-21e7c226eae1"
      },
      "execution_count": null,
      "outputs": [
        {
          "output_type": "stream",
          "name": "stdout",
          "text": [
            "Input: 5\n",
            " *\n",
            " * *\n",
            " * * *\n",
            " * * * *\n",
            " * * * * *\n",
            " * * * *\n",
            " * * *\n",
            " * *\n",
            " *\n",
            "\n"
          ]
        }
      ]
    },
    {
      "cell_type": "code",
      "source": [
        "#2\n",
        "n = int(input(\"Input: \"))\n",
        "i = 0\n",
        "j = 0\n",
        "while (i<n):\n",
        "  print(' '*(n-i)+' *'*(i+1))\n",
        "  i = i+1\n",
        "while (j<n):\n",
        "  print(' '*(j+2)+' *'*(n-1-j))\n",
        "  j = j+1"
      ],
      "metadata": {
        "colab": {
          "base_uri": "https://localhost:8080/"
        },
        "id": "QIi3PR-xuWtJ",
        "outputId": "0fb87f89-da79-46fe-ecfa-08765aff2794"
      },
      "execution_count": 1,
      "outputs": [
        {
          "output_type": "stream",
          "name": "stdout",
          "text": [
            "Input: 3\n",
            "    *\n",
            "   * *\n",
            "  * * *\n",
            "   * *\n",
            "    *\n",
            "    \n"
          ]
        }
      ]
    }
  ]
}